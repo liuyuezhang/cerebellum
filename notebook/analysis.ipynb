{
 "cells": [
  {
   "cell_type": "code",
   "execution_count": 1,
   "metadata": {},
   "outputs": [],
   "source": [
    "import sys  \n",
    "sys.path.insert(0, '../')\n",
    "\n",
    "import wandb\n",
    "import os\n",
    "import re\n",
    "\n",
    "import matplotlib.pyplot as plt\n",
    "import seaborn as sns\n",
    "import pandas as pd\n",
    "\n",
    "sns.set(style='darkgrid')\n",
    "%matplotlib inline\n",
    "\n",
    "import numpy as np\n",
    "import cupy as cp\n",
    "import scipy\n",
    "import model.functions as f\n",
    "import chainer\n",
    "import chainer.functions as F\n",
    "from chainer import serializers\n",
    "from chainer.backends.cuda import to_cpu, to_gpu"
   ]
  },
  {
   "cell_type": "code",
   "execution_count": 166,
   "metadata": {},
   "outputs": [],
   "source": [
    "class Bunch(object):\n",
    "    def __init__(self, adict):\n",
    "        self.__dict__.update(adict)\n",
    "\n",
    "def cos_similarity(u, v):\n",
    "    return np.dot(u, v) / (np.linalg.norm(u) * np.linalg.norm(v))\n",
    "\n",
    "def relu(x):\n",
    "    return x * (x > 0)\n",
    "\n",
    "def calc_dim(X):\n",
    "    X = X - cp.mean(X, axis=1).reshape(-1, 1)\n",
    "    C = X @ X.T\n",
    "    return cp.trace(C) ** 2 / cp.trace(C @ C)\n",
    "\n",
    "gpu_id = 0"
   ]
  },
  {
   "cell_type": "markdown",
   "metadata": {},
   "source": [
    "# Model"
   ]
  },
  {
   "cell_type": "code",
   "execution_count": 270,
   "metadata": {},
   "outputs": [
    {
     "name": "stdout",
     "output_type": "stream",
     "text": [
      "mnist_fc_ma_5970_0 ytyx0juo\n",
      "load: ../wandb/run-20200527_122206-ytyx0juo/model.pkl\n"
     ]
    },
    {
     "data": {
      "text/plain": [
       "((5970, 784), (10, 5970), None, (1, 5970))"
      ]
     },
     "execution_count": 270,
     "metadata": {},
     "output_type": "execute_result"
    }
   ],
   "source": [
    "name = 'mnist_fc_ma_5970_0'\n",
    "\n",
    "# check id\n",
    "api = wandb.Api()\n",
    "runs = api.runs(\"liuyuezhang/cerebellum\")\n",
    "for run in runs:\n",
    "    if run.name == name:\n",
    "        run_id = run.id\n",
    "        config = Bunch(run.config)\n",
    "        print(run.name, run.id)\n",
    "        break\n",
    "\n",
    "# load\n",
    "from model.cerebellum import Cerebellum\n",
    "model = Cerebellum(in_size=784, out_size=10, args=config)\n",
    "\n",
    "for file in os.listdir('../wandb/'):\n",
    "    if run_id in file:\n",
    "        model_dir = '../wandb/' + file + '/model.pkl'\n",
    "        serializers.load_npz(model_dir, model)\n",
    "        print(\"load: \" + model_dir)\n",
    "        break\n",
    "        \n",
    "model.to_gpu(gpu_id)\n",
    "\n",
    "# weight\n",
    "J = model.granule.W.array\n",
    "idx = model.granule.idx if config.granule == 'rc' else None\n",
    "mu = model.norm.ma if config.ltd == 'ma' else None\n",
    "W = model.purkinje.W.array\n",
    "\n",
    "J.shape, W.shape, (idx.shape if idx is not None else None), (mu.shape if mu is not None else None)"
   ]
  },
  {
   "cell_type": "markdown",
   "metadata": {},
   "source": [
    "### Calc Z, W"
   ]
  },
  {
   "cell_type": "code",
   "execution_count": 271,
   "metadata": {},
   "outputs": [
    {
     "data": {
      "text/plain": [
       "((784, 10000), (10, 10000))"
      ]
     },
     "execution_count": 271,
     "metadata": {},
     "output_type": "execute_result"
    }
   ],
   "source": [
    "from chainer.datasets import get_mnist\n",
    "\n",
    "train_data, test_data = get_mnist(withlabel=True, ndim=1)\n",
    "X, Y = zip(*test_data)\n",
    "\n",
    "X = cp.array(list(X)).T\n",
    "Y = cp.array(f.one_hot(Y, 10, dtype=X.dtype)).T\n",
    "X.shape, Y.shape"
   ]
  },
  {
   "cell_type": "code",
   "execution_count": 272,
   "metadata": {},
   "outputs": [
    {
     "data": {
      "text/plain": [
       "(5970, 10000)"
      ]
     },
     "execution_count": 272,
     "metadata": {},
     "output_type": "execute_result"
    }
   ],
   "source": [
    "Z = model.project(to_gpu(X.T)).array.T\n",
    "Z.shape"
   ]
  },
  {
   "cell_type": "code",
   "execution_count": 273,
   "metadata": {},
   "outputs": [
    {
     "data": {
      "text/plain": [
       "(10, 5970)"
      ]
     },
     "execution_count": 273,
     "metadata": {},
     "output_type": "execute_result"
    }
   ],
   "source": [
    "W = Y @ Z.T @ cp.linalg.inv(Z @ Z.T)\n",
    "W.shape"
   ]
  },
  {
   "cell_type": "code",
   "execution_count": 274,
   "metadata": {},
   "outputs": [
    {
     "data": {
      "text/plain": [
       "array(2788.0396, dtype=float32)"
      ]
     },
     "execution_count": 274,
     "metadata": {},
     "output_type": "execute_result"
    }
   ],
   "source": [
    "cp.abs(W).sum()"
   ]
  },
  {
   "cell_type": "markdown",
   "metadata": {},
   "source": [
    "### check gradient"
   ]
  },
  {
   "cell_type": "code",
   "execution_count": 170,
   "metadata": {},
   "outputs": [],
   "source": [
    "from chainer.datasets import get_mnist\n",
    "\n",
    "train_data, test_data = get_mnist(withlabel=True, ndim=1)\n",
    "x, label = train_data[0]\n",
    "x = cp.array(x.reshape(784, 1))"
   ]
  },
  {
   "cell_type": "code",
   "execution_count": 171,
   "metadata": {},
   "outputs": [
    {
     "data": {
      "text/plain": [
       "(784,)"
      ]
     },
     "execution_count": 171,
     "metadata": {},
     "output_type": "execute_result"
    }
   ],
   "source": [
    "from chainer import Variable\n",
    "chainer.config.train = False\n",
    "\n",
    "data = Variable(x.T)\n",
    "output = model.forward(data, attack=True)\n",
    "output[0, 4].backward()\n",
    "\n",
    "grad = data.grad.squeeze()\n",
    "grad.shape"
   ]
  },
  {
   "cell_type": "code",
   "execution_count": 311,
   "metadata": {},
   "outputs": [
    {
     "data": {
      "text/plain": [
       "(10, 1)"
      ]
     },
     "execution_count": 311,
     "metadata": {},
     "output_type": "execute_result"
    }
   ],
   "source": [
    "output1 = W @ (relu(J @ x) - mu.reshape(-1, 1))\n",
    "output1.shape\n",
    "# cp.sum((output1 - target.reshape(output1.shape))**2)"
   ]
  },
  {
   "cell_type": "code",
   "execution_count": 172,
   "metadata": {},
   "outputs": [
    {
     "data": {
      "text/plain": [
       "(784,)"
      ]
     },
     "execution_count": 172,
     "metadata": {},
     "output_type": "execute_result"
    }
   ],
   "source": [
    "if config.granule == 'fc':\n",
    "    grad2 = J.T @ (cp.expand_dims(W[4], 0).T * ((J @ x) > 0)).squeeze()\n",
    "# elif config.granule == 'rc':\n",
    "#     grad2 = cp.zeros(784)\n",
    "#     grad2 = 2 * J.T @ (((output.array - target) @ W).T * ((J @ x[idx, :]) > 0)).squeeze()\n",
    "grad2.shape"
   ]
  },
  {
   "cell_type": "code",
   "execution_count": 59,
   "metadata": {},
   "outputs": [
    {
     "data": {
      "text/plain": [
       "(1, 200000, 1)"
      ]
     },
     "execution_count": 59,
     "metadata": {},
     "output_type": "execute_result"
    }
   ],
   "source": [
    "H = ((J * x[:, idx]).sum(-1, keepdims=True) > 0)\n",
    "H.shape\n",
    "A = (((output.array - target) @ W).T * H)\n",
    "A.shape"
   ]
  },
  {
   "cell_type": "code",
   "execution_count": 173,
   "metadata": {},
   "outputs": [
    {
     "data": {
      "text/plain": [
       "array(0.99999994, dtype=float32)"
      ]
     },
     "execution_count": 173,
     "metadata": {},
     "output_type": "execute_result"
    }
   ],
   "source": [
    "cos_similarity(grad, grad2)"
   ]
  },
  {
   "cell_type": "markdown",
   "metadata": {},
   "source": [
    "# Data"
   ]
  },
  {
   "cell_type": "code",
   "execution_count": 239,
   "metadata": {},
   "outputs": [
    {
     "name": "stdout",
     "output_type": "stream",
     "text": [
      "mnist_fc_ma_5970_0 ytyx0juo\n",
      "load: ../wandb/run-20200527_122206-ytyx0juo/model.pkl\n"
     ]
    },
    {
     "data": {
      "text/plain": [
       "((5970, 784), (10, 5970), (1, 5970))"
      ]
     },
     "execution_count": 239,
     "metadata": {},
     "output_type": "execute_result"
    }
   ],
   "source": [
    "env = 'Base + LTD'\n",
    "ENV = {'Base': 'mnist_fc_none_5970_0', \n",
    "       'Base + LTD': 'mnist_fc_ma_5970_0',\n",
    "       'Base + RC': 'mnist_rc-4_none_200000_0',\n",
    "       'Cerebellum': 'mnist_rc-4_ma_200000_0'}\n",
    "name = ENV[env]\n",
    "\n",
    "# check id\n",
    "api = wandb.Api()\n",
    "runs = api.runs(\"liuyuezhang/cerebellum\")\n",
    "for run in runs:\n",
    "    if run.name == name:\n",
    "        run_id = run.id\n",
    "        config = Bunch(run.config)\n",
    "        print(run.name, run.id)\n",
    "        break\n",
    "\n",
    "# model\n",
    "from model.cerebellum import Cerebellum\n",
    "model = Cerebellum(in_size=784, out_size=10, args=config)\n",
    "\n",
    "# load\n",
    "for file in os.listdir('../wandb/'):\n",
    "    if run_id in file:\n",
    "        model_dir = '../wandb/' + file + '/model.pkl'\n",
    "        serializers.load_npz(model_dir, model)\n",
    "        print(\"load: \" + model_dir)\n",
    "        break\n",
    "        \n",
    "model.to_gpu(gpu_id)\n",
    "\n",
    "# weight\n",
    "J = model.granule.W.array\n",
    "mu = model.norm.ma if model.norm is not None else None\n",
    "W = model.purkinje.W.array\n",
    "\n",
    "J.shape, W.shape, (mu.shape if mu is not None else None)"
   ]
  },
  {
   "cell_type": "code",
   "execution_count": 275,
   "metadata": {},
   "outputs": [
    {
     "name": "stdout",
     "output_type": "stream",
     "text": [
      "pgd-mnist_fc_ma_5970_0 jhc52b39\n"
     ]
    },
    {
     "ename": "ValueError",
     "evalue": "invalid literal for int() with base 10: 'data'",
     "output_type": "error",
     "traceback": [
      "\u001b[0;31m---------------------------------------------------------------------------\u001b[0m",
      "\u001b[0;31mValueError\u001b[0m                                Traceback (most recent call last)",
      "\u001b[0;32m<ipython-input-275-cdbb95a7773a>\u001b[0m in \u001b[0;36m<module>\u001b[0;34m\u001b[0m\n\u001b[1;32m     22\u001b[0m \u001b[0;34m\u001b[0m\u001b[0m\n\u001b[1;32m     23\u001b[0m \u001b[0;31m# data\u001b[0m\u001b[0;34m\u001b[0m\u001b[0;34m\u001b[0m\u001b[0;34m\u001b[0m\u001b[0m\n\u001b[0;32m---> 24\u001b[0;31m \u001b[0mX\u001b[0m \u001b[0;34m=\u001b[0m \u001b[0mdata\u001b[0m\u001b[0;34m[\u001b[0m\u001b[0;34m'data'\u001b[0m\u001b[0;34m]\u001b[0m\u001b[0;34m.\u001b[0m\u001b[0msqueeze\u001b[0m\u001b[0;34m(\u001b[0m\u001b[0;34m)\u001b[0m\u001b[0;34m\u001b[0m\u001b[0;34m\u001b[0m\u001b[0m\n\u001b[0m\u001b[1;32m     25\u001b[0m \u001b[0mY\u001b[0m \u001b[0;34m=\u001b[0m \u001b[0mdata\u001b[0m\u001b[0;34m[\u001b[0m\u001b[0;34m'output'\u001b[0m\u001b[0;34m]\u001b[0m\u001b[0;34m.\u001b[0m\u001b[0msqueeze\u001b[0m\u001b[0;34m(\u001b[0m\u001b[0;34m)\u001b[0m\u001b[0;34m\u001b[0m\u001b[0;34m\u001b[0m\u001b[0m\n\u001b[1;32m     26\u001b[0m \u001b[0mX_adv\u001b[0m \u001b[0;34m=\u001b[0m \u001b[0mdata\u001b[0m\u001b[0;34m[\u001b[0m\u001b[0;34m'adv_data'\u001b[0m\u001b[0;34m]\u001b[0m\u001b[0;34m.\u001b[0m\u001b[0msqueeze\u001b[0m\u001b[0;34m(\u001b[0m\u001b[0;34m)\u001b[0m\u001b[0;34m\u001b[0m\u001b[0;34m\u001b[0m\u001b[0m\n",
      "\u001b[0;32m~/anaconda3/envs/chainer/lib/python3.7/site-packages/chainer/functions/array/get_item.py\u001b[0m in \u001b[0;36mget_item\u001b[0;34m(x, slices)\u001b[0m\n\u001b[1;32m    149\u001b[0m \u001b[0;34m\u001b[0m\u001b[0m\n\u001b[1;32m    150\u001b[0m     \"\"\"\n\u001b[0;32m--> 151\u001b[0;31m     \u001b[0;32mreturn\u001b[0m \u001b[0mGetItem\u001b[0m\u001b[0;34m(\u001b[0m\u001b[0mslices\u001b[0m\u001b[0;34m)\u001b[0m\u001b[0;34m.\u001b[0m\u001b[0mapply\u001b[0m\u001b[0;34m(\u001b[0m\u001b[0;34m(\u001b[0m\u001b[0mx\u001b[0m\u001b[0;34m,\u001b[0m\u001b[0;34m)\u001b[0m\u001b[0;34m)\u001b[0m\u001b[0;34m[\u001b[0m\u001b[0;36m0\u001b[0m\u001b[0;34m]\u001b[0m\u001b[0;34m\u001b[0m\u001b[0;34m\u001b[0m\u001b[0m\n\u001b[0m\u001b[1;32m    152\u001b[0m \u001b[0;34m\u001b[0m\u001b[0m\n\u001b[1;32m    153\u001b[0m \u001b[0;34m\u001b[0m\u001b[0m\n",
      "\u001b[0;32m~/anaconda3/envs/chainer/lib/python3.7/site-packages/chainer/function_node.py\u001b[0m in \u001b[0;36mapply\u001b[0;34m(self, inputs)\u001b[0m\n\u001b[1;32m    332\u001b[0m             \u001b[0;32melse\u001b[0m\u001b[0;34m:\u001b[0m\u001b[0;34m\u001b[0m\u001b[0;34m\u001b[0m\u001b[0m\n\u001b[1;32m    333\u001b[0m                 \u001b[0;31m# In normal case, simply run the forward method.\u001b[0m\u001b[0;34m\u001b[0m\u001b[0;34m\u001b[0m\u001b[0;34m\u001b[0m\u001b[0m\n\u001b[0;32m--> 334\u001b[0;31m                 \u001b[0moutputs\u001b[0m \u001b[0;34m=\u001b[0m \u001b[0mself\u001b[0m\u001b[0;34m.\u001b[0m\u001b[0mforward\u001b[0m\u001b[0;34m(\u001b[0m\u001b[0min_data\u001b[0m\u001b[0;34m)\u001b[0m\u001b[0;34m\u001b[0m\u001b[0;34m\u001b[0m\u001b[0m\n\u001b[0m\u001b[1;32m    335\u001b[0m \u001b[0;34m\u001b[0m\u001b[0m\n\u001b[1;32m    336\u001b[0m         \u001b[0;31m# Check for output array types\u001b[0m\u001b[0;34m\u001b[0m\u001b[0;34m\u001b[0m\u001b[0;34m\u001b[0m\u001b[0m\n",
      "\u001b[0;32m~/anaconda3/envs/chainer/lib/python3.7/site-packages/chainer/functions/array/get_item.py\u001b[0m in \u001b[0;36mforward\u001b[0;34m(self, xs)\u001b[0m\n\u001b[1;32m     43\u001b[0m             \u001b[0mbackend\u001b[0m\u001b[0;34m.\u001b[0m\u001b[0mfrom_chx\u001b[0m\u001b[0;34m(\u001b[0m\u001b[0ms\u001b[0m\u001b[0;34m)\u001b[0m \u001b[0;32mif\u001b[0m \u001b[0misinstance\u001b[0m\u001b[0;34m(\u001b[0m\u001b[0ms\u001b[0m\u001b[0;34m,\u001b[0m \u001b[0mchainerx\u001b[0m\u001b[0;34m.\u001b[0m\u001b[0mndarray\u001b[0m\u001b[0;34m)\u001b[0m \u001b[0;32melse\u001b[0m \u001b[0ms\u001b[0m\u001b[0;34m\u001b[0m\u001b[0;34m\u001b[0m\u001b[0m\n\u001b[1;32m     44\u001b[0m             for s in self.slices])\n\u001b[0;32m---> 45\u001b[0;31m         \u001b[0;32mreturn\u001b[0m \u001b[0mutils\u001b[0m\u001b[0;34m.\u001b[0m\u001b[0mforce_array\u001b[0m\u001b[0;34m(\u001b[0m\u001b[0mxs\u001b[0m\u001b[0;34m[\u001b[0m\u001b[0;36m0\u001b[0m\u001b[0;34m]\u001b[0m\u001b[0;34m[\u001b[0m\u001b[0mslices\u001b[0m\u001b[0;34m]\u001b[0m\u001b[0;34m)\u001b[0m\u001b[0;34m,\u001b[0m\u001b[0;34m\u001b[0m\u001b[0;34m\u001b[0m\u001b[0m\n\u001b[0m\u001b[1;32m     46\u001b[0m \u001b[0;34m\u001b[0m\u001b[0m\n\u001b[1;32m     47\u001b[0m     \u001b[0;32mdef\u001b[0m \u001b[0mbackward\u001b[0m\u001b[0;34m(\u001b[0m\u001b[0mself\u001b[0m\u001b[0;34m,\u001b[0m \u001b[0mindexes\u001b[0m\u001b[0;34m,\u001b[0m \u001b[0mgy\u001b[0m\u001b[0;34m)\u001b[0m\u001b[0;34m:\u001b[0m\u001b[0;34m\u001b[0m\u001b[0;34m\u001b[0m\u001b[0m\n",
      "\u001b[0;32mcupy/core/core.pyx\u001b[0m in \u001b[0;36mcupy.core.core.ndarray.__getitem__\u001b[0;34m()\u001b[0m\n",
      "\u001b[0;32mcupy/core/_routines_indexing.pyx\u001b[0m in \u001b[0;36mcupy.core._routines_indexing._ndarray_getitem\u001b[0;34m()\u001b[0m\n",
      "\u001b[0;32mcupy/core/_routines_indexing.pyx\u001b[0m in \u001b[0;36mcupy.core._routines_indexing._simple_getitem\u001b[0;34m()\u001b[0m\n",
      "\u001b[0;31mValueError\u001b[0m: invalid literal for int() with base 10: 'data'"
     ]
    }
   ],
   "source": [
    "attack = 'pgd'\n",
    "name = attack + '-' + ENV[env]\n",
    "eps = 0.3\n",
    "i = 4\n",
    "\n",
    "# check id\n",
    "api = wandb.Api()\n",
    "runs = api.runs(\"liuyuezhang/cerebellum\")\n",
    "for run in runs:\n",
    "    if run.name == name:\n",
    "        run_id = run.id\n",
    "        config = Bunch(run.config)\n",
    "        print(run.name, run.id)\n",
    "        break\n",
    "\n",
    "# load\n",
    "for file in os.listdir('../wandb'):\n",
    "    if run_id in file:\n",
    "        data = np.load('../wandb' + '/' + file + '/data_' + str(eps) +'.npz', allow_pickle=True)\n",
    "        print(\"load data\")\n",
    "        break\n",
    "\n",
    "# data\n",
    "X = data['data'].squeeze()\n",
    "Y = data['output'].squeeze()\n",
    "X_adv = data['adv_data'].squeeze()\n",
    "Y_adv = data['adv_output'].squeeze()\n",
    "grad_info = data['grad_info'].squeeze()\n",
    "label = data['label'].squeeze()\n",
    "\n",
    "X.shape, Y.shape, X_adv.shape, Y_adv.shape, grad_info.shape, label.shape"
   ]
  },
  {
   "cell_type": "code",
   "execution_count": 233,
   "metadata": {},
   "outputs": [
    {
     "name": "stdout",
     "output_type": "stream",
     "text": [
      "acc: 2402\n",
      "eps: 0.30000004\n"
     ]
    }
   ],
   "source": [
    "print('acc:', np.sum(Y.argmax(axis=-1) == Y_adv.argmax(axis=-1)))\n",
    "print('eps:', np.max(np.abs(X - X_adv)))"
   ]
  },
  {
   "cell_type": "markdown",
   "metadata": {},
   "source": [
    "### calc grad 1"
   ]
  },
  {
   "cell_type": "code",
   "execution_count": 208,
   "metadata": {},
   "outputs": [
    {
     "name": "stdout",
     "output_type": "stream",
     "text": [
      "(784, 10000)\n",
      "(784, 10000)\n"
     ]
    }
   ],
   "source": [
    "grad = J.T @ (cp.expand_dims(W[i], 0).T * (J @ to_gpu(X.T) > 0))\n",
    "print(grad.shape)\n",
    "\n",
    "grad_adv = J.T @ (cp.expand_dims(W[i], 0).T * (J @ to_gpu(X_adv.T) > 0))\n",
    "print(grad_adv.shape)"
   ]
  },
  {
   "cell_type": "markdown",
   "metadata": {},
   "source": [
    "### calc grad 2"
   ]
  },
  {
   "cell_type": "code",
   "execution_count": 234,
   "metadata": {},
   "outputs": [
    {
     "name": "stderr",
     "output_type": "stream",
     "text": [
      "100%|██████████| 10000/10000 [08:07<00:00, 20.50it/s]\n",
      "  0%|          | 3/10000 [00:00<07:21, 22.67it/s]"
     ]
    },
    {
     "name": "stdout",
     "output_type": "stream",
     "text": [
      "(784, 10000)\n"
     ]
    },
    {
     "name": "stderr",
     "output_type": "stream",
     "text": [
      "100%|██████████| 10000/10000 [08:07<00:00, 20.52it/s]"
     ]
    },
    {
     "name": "stdout",
     "output_type": "stream",
     "text": [
      "(784, 10000)\n"
     ]
    },
    {
     "name": "stderr",
     "output_type": "stream",
     "text": [
      "\n"
     ]
    }
   ],
   "source": [
    "from tqdm import tqdm\n",
    "from chainer import Variable\n",
    "chainer.config.train = False\n",
    "\n",
    "grad = []\n",
    "for x in tqdm(X):\n",
    "    data = Variable(to_gpu(np.expand_dims(x, 0)))\n",
    "    output = model.forward(data, attack=True)\n",
    "    output[0, i].backward()\n",
    "    temp = data.grad.squeeze()\n",
    "    grad.append(temp)    \n",
    "grad = cp.array(grad).T\n",
    "print(grad.shape)\n",
    "\n",
    "grad_adv = []\n",
    "for x in tqdm(X_adv):\n",
    "    data = Variable(to_gpu(np.expand_dims(x, 0)))\n",
    "    output = model.forward(data, attack=True)\n",
    "    output[0, i].backward()\n",
    "    temp = data.grad.squeeze()\n",
    "    grad_adv.append(temp)\n",
    "grad_adv = cp.array(grad_adv).T\n",
    "print(grad_adv.shape)"
   ]
  },
  {
   "cell_type": "code",
   "execution_count": 178,
   "metadata": {},
   "outputs": [
    {
     "data": {
      "text/plain": [
       "array([1.], dtype=float32)"
      ]
     },
     "execution_count": 178,
     "metadata": {},
     "output_type": "execute_result"
    }
   ],
   "source": [
    "cos_similarity(grad[:, 0], grad1[:, 0])"
   ]
  },
  {
   "cell_type": "code",
   "execution_count": 235,
   "metadata": {},
   "outputs": [
    {
     "name": "stdout",
     "output_type": "stream",
     "text": [
      "shape (10000,) (10000,) (10000,) (10000,)\n",
      "max 2.0303264 2.7188926 1.6706412\n",
      "mean 1.606445 2.0871453 0.47115263\n"
     ]
    }
   ],
   "source": [
    "bound1 = to_cpu(cp.sum(cp.abs(grad), 0) * eps)\n",
    "bound2 = to_cpu(cp.sum(cp.abs(grad_adv), 0) * eps)\n",
    "y = Y[:, i]\n",
    "y_adv = Y_adv[:, i]\n",
    "delta_y = np.abs(y - y_adv)\n",
    "\n",
    "print('shape', bound1.shape, bound2.shape, y.shape, y_adv.shape)\n",
    "print('max', bound1.max(), bound2.max(), delta_y.max())\n",
    "print('mean', bound1.mean(), bound2.mean(), delta_y.mean())"
   ]
  },
  {
   "cell_type": "code",
   "execution_count": 236,
   "metadata": {},
   "outputs": [
    {
     "data": {
      "image/png": "[encoded data removed]",
      "text/plain": [
       "<Figure size 432x288 with 1 Axes>"
      ]
     },
     "metadata": {
      "needs_background": "light"
     },
     "output_type": "display_data"
    }
   ],
   "source": [
    "ax = sns.distplot(bound1, label='lipschitz origin')\n",
    "sns.distplot(bound2, label='lipschitz attack')\n",
    "sns.distplot(delta_y, label='y perturb')\n",
    "ax.set(title=env, ylabel='PDF')\n",
    "plt.legend()\n",
    "plt.savefig('/home/liuyuezhangadam/Desktop/cerebellum/fig/lipschitz_' + env.replace(' ', '') + '.png', dpi=300)"
   ]
  },
  {
   "cell_type": "code",
   "execution_count": 237,
   "metadata": {},
   "outputs": [
    {
     "name": "stdout",
     "output_type": "stream",
     "text": [
      "shape (982, 10) (982, 10)\n"
     ]
    }
   ],
   "source": [
    "i = 4\n",
    "\n",
    "idx = (label == i)\n",
    "dist = Y[idx]\n",
    "dist_adv = Y_adv[idx]\n",
    "\n",
    "print('shape', dist.shape, dist_adv.shape)\n",
    "\n",
    "df = pd.DataFrame()\n",
    "for j in range(10):\n",
    "    temp = pd.DataFrame()\n",
    "    temp['output'] = dist[:, j]\n",
    "    temp[''] = 'y'\n",
    "    temp['label'] = j\n",
    "    df = df.append(temp)\n",
    "for j in range(10):\n",
    "    temp = pd.DataFrame()\n",
    "    temp['output'] = dist_adv[:, j]\n",
    "    temp[''] = 'y_attack'\n",
    "    temp['label'] = j\n",
    "    df = df.append(temp)"
   ]
  },
  {
   "cell_type": "code",
   "execution_count": 238,
   "metadata": {},
   "outputs": [
    {
     "data": {
      "image/png": "[encoded data removed]",
      "text/plain": [
       "<Figure size 432x288 with 1 Axes>"
      ]
     },
     "metadata": {
      "needs_background": "light"
     },
     "output_type": "display_data"
    }
   ],
   "source": [
    "ax = sns.lineplot(x='label', y='output', hue='', marker='o', ci=95, n_boot=1000, data=df)\n",
    "ax.set(title=env, xlabel='Label', ylabel='Output')\n",
    "plt.xticks(range(10))\n",
    "plt.savefig('/home/liuyuezhangadam/Desktop/cerebellum/fig/output_' + env.replace(' ', '') + '.png', dpi=300)"
   ]
  }
 ],
 "metadata": {
  "kernelspec": {
   "display_name": "Python [conda env:chainer]",
   "language": "python",
   "name": "conda-env-chainer-py"
  },
  "language_info": {
   "codemirror_mode": {
    "name": "ipython",
    "version": 3
   },
   "file_extension": ".py",
   "mimetype": "text/x-python",
   "name": "python",
   "nbconvert_exporter": "python",
   "pygments_lexer": "ipython3",
   "version": "3.7.6"
  }
 },
 "nbformat": 4,
 "nbformat_minor": 2
}
