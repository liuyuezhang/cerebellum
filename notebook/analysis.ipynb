{
 "cells": [
  {
   "cell_type": "code",
   "execution_count": 1,
   "metadata": {},
   "outputs": [],
   "source": [
    "import sys  \n",
    "sys.path.insert(0, '../')\n",
    "\n",
    "import wandb\n",
    "import os\n",
    "import re\n",
    "\n",
    "import matplotlib.pyplot as plt\n",
    "import seaborn as sns\n",
    "import pandas as pd\n",
    "\n",
    "sns.set(style='darkgrid')\n",
    "%matplotlib inline\n",
    "\n",
    "import numpy as np\n",
    "import cupy as cp\n",
    "import scipy\n",
    "import model.functions as f\n",
    "import chainer\n",
    "import chainer.functions as F\n",
    "from chainer import serializers\n",
    "from chainer.backends.cuda import to_cpu, to_gpu"
   ]
  },
  {
   "cell_type": "code",
   "execution_count": 3,
   "metadata": {},
   "outputs": [],
   "source": [
    "class Bunch(object):\n",
    "    def __init__(self, adict):\n",
    "        self.__dict__.update(adict)\n",
    "\n",
    "def cos_similarity(u, v):\n",
    "    return np.dot(u, v) / (np.linalg.norm(u) * np.linalg.norm(v))\n",
    "\n",
    "def relu(x):\n",
    "    return x * (x > 0)\n",
    "\n",
    "def calc_dim(X):\n",
    "    X = X - cp.mean(X, axis=1).reshape(-1, 1)\n",
    "    C = X @ X.T\n",
    "    return cp.trace(C) ** 2 / cp.trace(C @ C)\n",
    "\n",
    "gpu_id = 0"
   ]
  },
  {
   "cell_type": "markdown",
   "metadata": {},
   "source": [
    "# Model"
   ]
  },
  {
   "cell_type": "code",
   "execution_count": 11,
   "metadata": {},
   "outputs": [
    {
     "name": "stdout",
     "output_type": "stream",
     "text": [
      "mnist_rc-4_ma_200000_0 3ki8nhpy\n",
      "load: ../wandb/run-20200603_131624-3ki8nhpy/model.pkl\n"
     ]
    },
    {
     "data": {
      "text/plain": [
       "((200000, 4), (10, 200000), (200000, 4), (1, 200000))"
      ]
     },
     "execution_count": 11,
     "metadata": {},
     "output_type": "execute_result"
    }
   ],
   "source": [
    "name = 'mnist_rc-4_ma_200000_0'\n",
    "\n",
    "# check id\n",
    "api = wandb.Api()\n",
    "runs = api.runs(\"liuyuezhang/cerebellum\")\n",
    "for run in runs:\n",
    "    if run.name == name:\n",
    "        run_id = run.id\n",
    "        config = Bunch(run.config)\n",
    "        print(run.name, run.id)\n",
    "        break\n",
    "\n",
    "# load\n",
    "from model.cerebellum import Cerebellum\n",
    "model = Cerebellum(in_size=784, out_size=10, args=config)\n",
    "\n",
    "for file in os.listdir('../wandb/'):\n",
    "    if run_id in file:\n",
    "        model_dir = '../wandb/' + file + '/model.pkl'\n",
    "        serializers.load_npz(model_dir, model)\n",
    "        print(\"load: \" + model_dir)\n",
    "        break\n",
    "        \n",
    "model.to_gpu(gpu_id)\n",
    "\n",
    "# weight\n",
    "J = model.granule.W.array\n",
    "idx = model.granule.idx if config.granule == 'rc' else None\n",
    "mu = model.norm.ma if config.ltd == 'ma' else None\n",
    "W = model.purkinje.W.array\n",
    "\n",
    "J.shape, W.shape, (idx.shape if idx is not None else None), (mu.shape if mu is not None else None)"
   ]
  },
  {
   "cell_type": "markdown",
   "metadata": {},
   "source": [
    "### Calc Z, W"
   ]
  },
  {
   "cell_type": "code",
   "execution_count": 271,
   "metadata": {},
   "outputs": [
    {
     "data": {
      "text/plain": [
       "((784, 10000), (10, 10000))"
      ]
     },
     "execution_count": 271,
     "metadata": {},
     "output_type": "execute_result"
    }
   ],
   "source": [
    "from chainer.datasets import get_mnist\n",
    "\n",
    "train_data, test_data = get_mnist(withlabel=True, ndim=1)\n",
    "X, Y = zip(*test_data)\n",
    "\n",
    "X = cp.array(list(X)).T\n",
    "Y = cp.array(f.one_hot(Y, 10, dtype=X.dtype)).T\n",
    "X.shape, Y.shape"
   ]
  },
  {
   "cell_type": "code",
   "execution_count": 272,
   "metadata": {},
   "outputs": [
    {
     "data": {
      "text/plain": [
       "(5970, 10000)"
      ]
     },
     "execution_count": 272,
     "metadata": {},
     "output_type": "execute_result"
    }
   ],
   "source": [
    "Z = model.project(to_gpu(X.T)).array.T\n",
    "Z.shape"
   ]
  },
  {
   "cell_type": "code",
   "execution_count": 273,
   "metadata": {},
   "outputs": [
    {
     "data": {
      "text/plain": [
       "(10, 5970)"
      ]
     },
     "execution_count": 273,
     "metadata": {},
     "output_type": "execute_result"
    }
   ],
   "source": [
    "W = Y @ Z.T @ cp.linalg.inv(Z @ Z.T)\n",
    "W.shape"
   ]
  },
  {
   "cell_type": "code",
   "execution_count": 274,
   "metadata": {},
   "outputs": [
    {
     "data": {
      "text/plain": [
       "array(2788.0396, dtype=float32)"
      ]
     },
     "execution_count": 274,
     "metadata": {},
     "output_type": "execute_result"
    }
   ],
   "source": [
    "cp.abs(W).sum()"
   ]
  },
  {
   "cell_type": "code",
   "execution_count": 12,
   "metadata": {},
   "outputs": [
    {
     "data": {
      "text/plain": [
       "array(1.5963608, dtype=float32)"
      ]
     },
     "execution_count": 12,
     "metadata": {},
     "output_type": "execute_result"
    }
   ],
   "source": [
    "cp.mean(cp.abs(J).sum(-1))"
   ]
  },
  {
   "cell_type": "markdown",
   "metadata": {},
   "source": [
    "### check gradient"
   ]
  },
  {
   "cell_type": "code",
   "execution_count": 170,
   "metadata": {},
   "outputs": [],
   "source": [
    "from chainer.datasets import get_mnist\n",
    "\n",
    "train_data, test_data = get_mnist(withlabel=True, ndim=1)\n",
    "x, label = train_data[0]\n",
    "x = cp.array(x.reshape(784, 1))"
   ]
  },
  {
   "cell_type": "code",
   "execution_count": 171,
   "metadata": {},
   "outputs": [
    {
     "data": {
      "text/plain": [
       "(784,)"
      ]
     },
     "execution_count": 171,
     "metadata": {},
     "output_type": "execute_result"
    }
   ],
   "source": [
    "from chainer import Variable\n",
    "chainer.config.train = False\n",
    "\n",
    "data = Variable(x.T)\n",
    "output = model.forward(data, attack=True)\n",
    "output[0, 4].backward()\n",
    "\n",
    "grad = data.grad.squeeze()\n",
    "grad.shape"
   ]
  },
  {
   "cell_type": "code",
   "execution_count": 311,
   "metadata": {},
   "outputs": [
    {
     "data": {
      "text/plain": [
       "(10, 1)"
      ]
     },
     "execution_count": 311,
     "metadata": {},
     "output_type": "execute_result"
    }
   ],
   "source": [
    "output1 = W @ (relu(J @ x) - mu.reshape(-1, 1))\n",
    "output1.shape\n",
    "# cp.sum((output1 - target.reshape(output1.shape))**2)"
   ]
  },
  {
   "cell_type": "code",
   "execution_count": 172,
   "metadata": {},
   "outputs": [
    {
     "data": {
      "text/plain": [
       "(784,)"
      ]
     },
     "execution_count": 172,
     "metadata": {},
     "output_type": "execute_result"
    }
   ],
   "source": [
    "if config.granule == 'fc':\n",
    "    grad2 = J.T @ (cp.expand_dims(W[4], 0).T * ((J @ x) > 0)).squeeze()\n",
    "# elif config.granule == 'rc':\n",
    "#     grad2 = cp.zeros(784)\n",
    "#     grad2 = 2 * J.T @ (((output.array - target) @ W).T * ((J @ x[idx, :]) > 0)).squeeze()\n",
    "grad2.shape"
   ]
  },
  {
   "cell_type": "code",
   "execution_count": 59,
   "metadata": {},
   "outputs": [
    {
     "data": {
      "text/plain": [
       "(1, 200000, 1)"
      ]
     },
     "execution_count": 59,
     "metadata": {},
     "output_type": "execute_result"
    }
   ],
   "source": [
    "H = ((J * x[:, idx]).sum(-1, keepdims=True) > 0)\n",
    "H.shape\n",
    "A = (((output.array - target) @ W).T * H)\n",
    "A.shape"
   ]
  },
  {
   "cell_type": "code",
   "execution_count": 173,
   "metadata": {},
   "outputs": [
    {
     "data": {
      "text/plain": [
       "array(0.99999994, dtype=float32)"
      ]
     },
     "execution_count": 173,
     "metadata": {},
     "output_type": "execute_result"
    }
   ],
   "source": [
    "cos_similarity(grad, grad2)"
   ]
  },
  {
   "cell_type": "markdown",
   "metadata": {},
   "source": [
    "# Data"
   ]
  },
  {
   "cell_type": "code",
   "execution_count": 166,
   "metadata": {},
   "outputs": [
    {
     "name": "stdout",
     "output_type": "stream",
     "text": [
      "mnist_rc-100_none_40000_0 31sjjxfy\n",
      "load: ../wandb/run-20200603_131223-31sjjxfy/model.pkl\n",
      "weight shape: (40000, 100) (10, 40000) None\n"
     ]
    }
   ],
   "source": [
    "env = 'Base'\n",
    "ENV = {'Base': 'mnist_fc_none_5970_0', \n",
    "       'Base + LTD': 'mnist_fc_ma_5970_0',\n",
    "       'Base + RC': 'mnist_rc-4_none_200000_0',\n",
    "       'Cerebellum': 'mnist_rc-4_ma_200000_0'}\n",
    "name = ENV[env]\n",
    "name = 'mnist_rc-100_none_40000_0'\n",
    "\n",
    "# check id\n",
    "api = wandb.Api()\n",
    "runs = api.runs(\"liuyuezhang/cerebellum\")\n",
    "for run in runs:\n",
    "    if run.name == name:\n",
    "        run_id = run.id\n",
    "        config = Bunch(run.config)\n",
    "        print(run.name, run.id)\n",
    "        break\n",
    "\n",
    "# model\n",
    "from model.cerebellum import Cerebellum\n",
    "model = Cerebellum(in_size=784, out_size=10, args=config)\n",
    "\n",
    "# load\n",
    "for file in os.listdir('../wandb/'):\n",
    "    if run_id in file:\n",
    "        model_dir = '../wandb/' + file + '/model.pkl'\n",
    "        serializers.load_npz(model_dir, model)\n",
    "        print(\"load: \" + model_dir)\n",
    "        break\n",
    "        \n",
    "model.to_gpu(gpu_id)\n",
    "\n",
    "# weight\n",
    "J = model.granule.W.array\n",
    "mu = model.norm.ma if model.norm is not None else None\n",
    "W = model.purkinje.W.array\n",
    "\n",
    "print(\"weight shape:\", J.shape, W.shape, (mu.shape if mu is not None else None))"
   ]
  },
  {
   "cell_type": "code",
   "execution_count": 167,
   "metadata": {},
   "outputs": [
    {
     "name": "stdout",
     "output_type": "stream",
     "text": [
      "fgsm-mnist_rc-100_none_40000_0 3p71zm63\n",
      "load data\n",
      "data: (10000, 784) (10000, 10) (10000, 784) (10000, 10) (10000, 784) (10000,)\n",
      "acc: 2056\n",
      "eps: 0.30000004\n"
     ]
    }
   ],
   "source": [
    "attack = 'fgsm'\n",
    "attack_name = attack + '-' + name\n",
    "eps = 0.3\n",
    "j = 4\n",
    "\n",
    "# check id\n",
    "api = wandb.Api()\n",
    "runs = api.runs(\"liuyuezhang/cerebellum\")\n",
    "for run in runs:\n",
    "    if run.name == attack_name:\n",
    "        run_id = run.id\n",
    "        config = Bunch(run.config)\n",
    "        print(run.name, run.id)\n",
    "        break\n",
    "\n",
    "# load\n",
    "for file in os.listdir('../wandb'):\n",
    "    if run_id in file:\n",
    "        data = np.load('../wandb' + '/' + file + '/data_' + str(eps) +'.npz', allow_pickle=True)\n",
    "        print(\"load data\")\n",
    "        break\n",
    "\n",
    "# data\n",
    "X = data['data'].squeeze()\n",
    "Y = data['output'].squeeze()\n",
    "X_adv = data['adv_data'].squeeze()\n",
    "Y_adv = data['adv_output'].squeeze()\n",
    "grad_info = data['grad_info'].squeeze()\n",
    "label = data['label'].squeeze()\n",
    "\n",
    "print(\"data:\", X.shape, Y.shape, X_adv.shape, Y_adv.shape, grad_info.shape, label.shape)\n",
    "print('acc:', np.sum(Y.argmax(axis=-1) == Y_adv.argmax(axis=-1)))\n",
    "print('eps:', np.max(np.abs(X - X_adv)))"
   ]
  },
  {
   "cell_type": "markdown",
   "metadata": {},
   "source": [
    "### plot pgd"
   ]
  },
  {
   "cell_type": "code",
   "execution_count": 41,
   "metadata": {},
   "outputs": [],
   "source": [
    "grad = grad_info[:, :, 0]\n",
    "\n",
    "df = pd.DataFrame()\n",
    "for i in range(40):\n",
    "    temp = pd.DataFrame()\n",
    "    temp['norm'] = grad[:, i]\n",
    "    temp['step'] = i + 1\n",
    "    df = df.append(temp)"
   ]
  },
  {
   "cell_type": "code",
   "execution_count": 43,
   "metadata": {},
   "outputs": [
    {
     "name": "stdout",
     "output_type": "stream",
     "text": [
      "5.690989179868698\n"
     ]
    },
    {
     "data": {
      "image/png": "[encoded data removed]",
      "text/plain": [
       "<Figure size 432x288 with 1 Axes>"
      ]
     },
     "metadata": {
      "needs_background": "light"
     },
     "output_type": "display_data"
    }
   ],
   "source": [
    "print(np.mean(grad[:, 39]) * eps)\n",
    "ax = sns.lineplot(x='step', y='norm', ci=95, n_boot=1000, data=df)\n",
    "# ax.set(title=name, xlabel='Label', ylabel='Output')\n",
    "# plt.xticks(range(10))\n",
    "# plt.savefig('/home/liuyuezhangadam/Desktop/cerebellum/fig/out_' + name + '.png', dpi=300)"
   ]
  },
  {
   "cell_type": "markdown",
   "metadata": {},
   "source": [
    "### calc grad 1"
   ]
  },
  {
   "cell_type": "code",
   "execution_count": 133,
   "metadata": {},
   "outputs": [
    {
     "name": "stdout",
     "output_type": "stream",
     "text": [
      "(784, 10000)\n",
      "(784, 10000)\n",
      "J 24.711246490478516\n"
     ]
    }
   ],
   "source": [
    "K = (J @ to_gpu(X.T) > 0)\n",
    "grad = J.T @ (cp.expand_dims(W[j], 0).T * K)\n",
    "print(grad.shape)\n",
    "\n",
    "K_adv = (J @ to_gpu(X_adv.T) > 0)\n",
    "grad_adv = J.T @ (cp.expand_dims(W[j], 0).T * K_adv)\n",
    "print(grad_adv.shape)\n",
    "\n",
    "print(\"J\", np.max(np.sum(np.abs(J), -1)).item())"
   ]
  },
  {
   "cell_type": "code",
   "execution_count": 10,
   "metadata": {},
   "outputs": [
    {
     "data": {
      "text/plain": [
       "(2000, 10000)"
      ]
     },
     "execution_count": 10,
     "metadata": {},
     "output_type": "execute_result"
    }
   ],
   "source": [
    "H = relu(J @ to_gpu(X.T))\n",
    "Z = H - mu.reshape(-1, 1) if mu is not None else H\n",
    "Z.shape"
   ]
  },
  {
   "cell_type": "code",
   "execution_count": 114,
   "metadata": {},
   "outputs": [
    {
     "data": {
      "text/plain": [
       "array([0.08931024, 0.05083937, 0.04227418, ..., 0.19299784, 0.11534549,\n",
       "       0.00137857], dtype=float32)"
      ]
     },
     "execution_count": 114,
     "metadata": {},
     "output_type": "execute_result"
    }
   ],
   "source": [
    "Z.mean(-1)"
   ]
  },
  {
   "cell_type": "code",
   "execution_count": 109,
   "metadata": {},
   "outputs": [
    {
     "data": {
      "text/plain": [
       "array([0.08558659, 0.05262279, 0.04440761, ..., 0.18534889, 0.10427296,\n",
       "       0.00382837])"
      ]
     },
     "execution_count": 109,
     "metadata": {},
     "output_type": "execute_result"
    }
   ],
   "source": [
    "mu.squeeze()"
   ]
  },
  {
   "cell_type": "code",
   "execution_count": 99,
   "metadata": {},
   "outputs": [],
   "source": [
    "A = Z @ Z.T"
   ]
  },
  {
   "cell_type": "code",
   "execution_count": 100,
   "metadata": {},
   "outputs": [
    {
     "data": {
      "text/plain": [
       "array(699934.4248727)"
      ]
     },
     "execution_count": 100,
     "metadata": {},
     "output_type": "execute_result"
    }
   ],
   "source": [
    "cp.max(cp.abs(A).sum(0))"
   ]
  },
  {
   "cell_type": "markdown",
   "metadata": {},
   "source": [
    "### calc grad 2"
   ]
  },
  {
   "cell_type": "code",
   "execution_count": 168,
   "metadata": {},
   "outputs": [
    {
     "name": "stderr",
     "output_type": "stream",
     "text": [
      "100%|██████████| 10000/10000 [01:57<00:00, 85.45it/s]\n",
      "  0%|          | 10/10000 [00:00<01:49, 90.90it/s]"
     ]
    },
    {
     "name": "stdout",
     "output_type": "stream",
     "text": [
      "(784, 10000)\n"
     ]
    },
    {
     "name": "stderr",
     "output_type": "stream",
     "text": [
      "100%|██████████| 10000/10000 [01:58<00:00, 84.70it/s]"
     ]
    },
    {
     "name": "stdout",
     "output_type": "stream",
     "text": [
      "(784, 10000)\n"
     ]
    },
    {
     "name": "stderr",
     "output_type": "stream",
     "text": [
      "\n"
     ]
    }
   ],
   "source": [
    "from tqdm import tqdm\n",
    "from chainer import Variable\n",
    "chainer.config.train = False\n",
    "\n",
    "grad = []\n",
    "for x in tqdm(X):\n",
    "    data = Variable(to_gpu(np.expand_dims(x, 0)))\n",
    "    output = model.forward(data, attack=True)\n",
    "    output[0, i].backward()\n",
    "    temp = data.grad.squeeze()\n",
    "    grad.append(temp)    \n",
    "grad = cp.array(grad).T\n",
    "print(grad.shape)\n",
    "\n",
    "grad_adv = []\n",
    "for x in tqdm(X_adv):\n",
    "    data = Variable(to_gpu(np.expand_dims(x, 0)))\n",
    "    output = model.forward(data, attack=True)\n",
    "    output[0, i].backward()\n",
    "    temp = data.grad.squeeze()\n",
    "    grad_adv.append(temp)\n",
    "grad_adv = cp.array(grad_adv).T\n",
    "print(grad_adv.shape)"
   ]
  },
  {
   "cell_type": "code",
   "execution_count": 169,
   "metadata": {},
   "outputs": [
    {
     "name": "stdout",
     "output_type": "stream",
     "text": [
      "W_j 231.24138\n",
      "bound (10000,) (10000,) (10000,) (10000,)\n",
      "max 6.9292054 6.446201 2.3208082\n",
      "mean 5.6297216 5.423865 0.58285236\n"
     ]
    }
   ],
   "source": [
    "bound1 = to_cpu(cp.sum(cp.abs(grad), 0) * eps)\n",
    "bound2 = to_cpu(cp.sum(cp.abs(grad_adv), 0) * eps)\n",
    "y = Y[:, j]\n",
    "y_adv = Y_adv[:, j]\n",
    "delta_y = np.abs(y - y_adv)\n",
    "\n",
    "print('W_j', np.linalg.norm(W[j], 1))\n",
    "print('bound', bound1.shape, bound2.shape, y.shape, y_adv.shape)\n",
    "print('max', bound1.max(), bound2.max(), delta_y.max())\n",
    "print('mean', bound1.mean(), bound2.mean(), delta_y.mean())"
   ]
  },
  {
   "cell_type": "code",
   "execution_count": 170,
   "metadata": {},
   "outputs": [
    {
     "data": {
      "image/png": "[encoded data removed]",
      "text/plain": [
       "<Figure size 432x288 with 1 Axes>"
      ]
     },
     "metadata": {
      "needs_background": "light"
     },
     "output_type": "display_data"
    }
   ],
   "source": [
    "ax = sns.distplot(bound1, label='lipschitz origin')\n",
    "sns.distplot(bound2, label='lipschitz attack')\n",
    "sns.distplot(delta_y, label='y perturb')\n",
    "ax.set(title=name, ylabel='PDF')\n",
    "plt.legend()\n",
    "plt.savefig('/home/liuyuezhangadam/Desktop/cerebellum/fig/lip_' + name + '.png', dpi=300)"
   ]
  },
  {
   "cell_type": "code",
   "execution_count": 171,
   "metadata": {},
   "outputs": [
    {
     "name": "stdout",
     "output_type": "stream",
     "text": [
      "dist: (982, 10) (982, 10)\n"
     ]
    }
   ],
   "source": [
    "j = 4\n",
    "\n",
    "idx = (label == j)\n",
    "dist = Y[idx]\n",
    "dist_adv = Y_adv[idx]\n",
    "\n",
    "print('dist:', dist.shape, dist_adv.shape)\n",
    "\n",
    "df = pd.DataFrame()\n",
    "for i in range(10):\n",
    "    temp = pd.DataFrame()\n",
    "    temp['output'] = dist[:, i]\n",
    "    temp[''] = 'y'\n",
    "    temp['label'] = i\n",
    "    df = df.append(temp)\n",
    "for i in range(10):\n",
    "    temp = pd.DataFrame()\n",
    "    temp['output'] = dist_adv[:, i]\n",
    "    temp[''] = 'y_attack'\n",
    "    temp['label'] = i\n",
    "    df = df.append(temp)"
   ]
  },
  {
   "cell_type": "code",
   "execution_count": 172,
   "metadata": {},
   "outputs": [
    {
     "data": {
      "image/png": "[encoded data removed]",
      "text/plain": [
       "<Figure size 432x288 with 1 Axes>"
      ]
     },
     "metadata": {
      "needs_background": "light"
     },
     "output_type": "display_data"
    }
   ],
   "source": [
    "ax = sns.lineplot(x='label', y='output', hue='', marker='o', ci=95, n_boot=1000, data=df)\n",
    "ax.set(title=name, xlabel='Label', ylabel='Output')\n",
    "plt.xticks(range(10))\n",
    "plt.savefig('/home/liuyuezhangadam/Desktop/cerebellum/fig/out_' + name + '.png', dpi=300)"
   ]
  }
 ],
 "metadata": {
  "kernelspec": {
   "display_name": "Python [conda env:chainer]",
   "language": "python",
   "name": "conda-env-chainer-py"
  },
  "language_info": {
   "codemirror_mode": {
    "name": "ipython",
    "version": 3
   },
   "file_extension": ".py",
   "mimetype": "text/x-python",
   "name": "python",
   "nbconvert_exporter": "python",
   "pygments_lexer": "ipython3",
   "version": "3.7.6"
  }
 },
 "nbformat": 4,
 "nbformat_minor": 2
}
