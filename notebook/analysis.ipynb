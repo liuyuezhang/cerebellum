{
 "cells": [
  {
   "cell_type": "code",
   "execution_count": 30,
   "metadata": {},
   "outputs": [],
   "source": [
    "import sys  \n",
    "sys.path.insert(0, '../')\n",
    "\n",
    "import wandb\n",
    "import os\n",
    "import re\n",
    "\n",
    "import matplotlib.pyplot as plt\n",
    "import seaborn as sns\n",
    "import pandas as pd\n",
    "\n",
    "sns.set(style='darkgrid')\n",
    "%matplotlib inline\n",
    "\n",
    "import numpy as np\n",
    "import cupy as cp\n",
    "import scipy\n",
    "import model.functions as f\n",
    "from chainer import serializers\n",
    "\n",
    "class Bunch(object):\n",
    "    def __init__(self, adict):\n",
    "        self.__dict__.update(adict)"
   ]
  },
  {
   "cell_type": "code",
   "execution_count": 40,
   "metadata": {},
   "outputs": [
    {
     "name": "stdout",
     "output_type": "stream",
     "text": [
      "gaussian2_fc_ma_2000_0 1bfob7tw\n"
     ]
    }
   ],
   "source": [
    "name = 'gaussian2_fc_ma_2000_0'\n",
    "\n",
    "# check id\n",
    "api = wandb.Api()\n",
    "runs = api.runs(\"liuyuezhang/cerebellum\")\n",
    "for run in runs:\n",
    "    if run.name == name:\n",
    "        run_id = run.id\n",
    "        config = Bunch(run.config)\n",
    "        print(run.name, run.id)\n",
    "        break"
   ]
  },
  {
   "cell_type": "code",
   "execution_count": 41,
   "metadata": {},
   "outputs": [
    {
     "data": {
      "text/plain": [
       "((500, 1000), (2, 1000))"
      ]
     },
     "execution_count": 41,
     "metadata": {},
     "output_type": "execute_result"
    }
   ],
   "source": [
    "from data.gaussian import get_gaussian\n",
    "\n",
    "d = 500\n",
    "n = 1000\n",
    "\n",
    "data = get_gaussian(d=d, n=n, c=2, mu=0.5, sigma=1, seed=config.seed)\n",
    "in_size = d\n",
    "out_size = 2\n",
    "\n",
    "X, Y = zip(*data)\n",
    "X = np.array(X).T\n",
    "Y = f.one_hot(Y, out_size=out_size, dtype=float).T\n",
    "X.shape, Y.shape"
   ]
  },
  {
   "cell_type": "code",
   "execution_count": 42,
   "metadata": {},
   "outputs": [],
   "source": [
    "from model.cerebellum import Cerebellum\n",
    "model = Cerebellum(in_size=in_size, out_size=out_size, args=config)\n",
    "\n",
    "# load\n",
    "for file in os.listdir('../wandb'):\n",
    "    if run_id in file:\n",
    "        serializers.load_npz('../wandb' + '/' + file + '/model.pkl', model)\n",
    "        break"
   ]
  },
  {
   "cell_type": "code",
   "execution_count": 43,
   "metadata": {},
   "outputs": [
    {
     "data": {
      "text/plain": [
       "((2000, 1000), (2, 2000))"
      ]
     },
     "execution_count": 43,
     "metadata": {},
     "output_type": "execute_result"
    }
   ],
   "source": [
    "Z = model.project(X.T).array.T\n",
    "W_ref = model.purkinje.W.array\n",
    "\n",
    "Z.shape, W_ref.shape"
   ]
  },
  {
   "cell_type": "code",
   "execution_count": 47,
   "metadata": {},
   "outputs": [
    {
     "data": {
      "text/plain": [
       "(2, 2000)"
      ]
     },
     "execution_count": 47,
     "metadata": {},
     "output_type": "execute_result"
    }
   ],
   "source": [
    "W = Y @ Z.T @ np.linalg.inv(Z @ Z.T)\n",
    "W.shape"
   ]
  },
  {
   "cell_type": "code",
   "execution_count": 52,
   "metadata": {},
   "outputs": [
    {
     "data": {
      "text/plain": [
       "1.0080718594213747"
      ]
     },
     "execution_count": 52,
     "metadata": {},
     "output_type": "execute_result"
    }
   ],
   "source": [
    "u = W[0]\n",
    "v = W_ref[0]\n",
    "scipy.spatial.distance.cosine(u, v)"
   ]
  },
  {
   "cell_type": "code",
   "execution_count": 45,
   "metadata": {},
   "outputs": [
    {
     "data": {
      "text/plain": [
       "344.72578309349484"
      ]
     },
     "execution_count": 45,
     "metadata": {},
     "output_type": "execute_result"
    }
   ],
   "source": [
    "calc_dim(Z)"
   ]
  },
  {
   "cell_type": "code",
   "execution_count": 38,
   "metadata": {},
   "outputs": [],
   "source": [
    "def calc_dim(X):\n",
    "    C = X @ X.T\n",
    "    return cp.trace(C) ** 2 / cp.trace(C @ C)"
   ]
  }
 ],
 "metadata": {
  "kernelspec": {
   "display_name": "Python [conda env:chainer]",
   "language": "python",
   "name": "conda-env-chainer-py"
  },
  "language_info": {
   "codemirror_mode": {
    "name": "ipython",
    "version": 3
   },
   "file_extension": ".py",
   "mimetype": "text/x-python",
   "name": "python",
   "nbconvert_exporter": "python",
   "pygments_lexer": "ipython3",
   "version": "3.7.6"
  }
 },
 "nbformat": 4,
 "nbformat_minor": 2
}
