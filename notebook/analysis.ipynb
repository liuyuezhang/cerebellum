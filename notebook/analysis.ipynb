{
 "cells": [
  {
   "cell_type": "code",
   "execution_count": 1,
   "metadata": {},
   "outputs": [],
   "source": [
    "import sys  \n",
    "sys.path.insert(0, '../')\n",
    "\n",
    "import wandb\n",
    "import os\n",
    "import re\n",
    "\n",
    "import matplotlib.pyplot as plt\n",
    "import seaborn as sns\n",
    "import pandas as pd\n",
    "\n",
    "sns.set(style='darkgrid')\n",
    "%matplotlib inline\n",
    "\n",
    "import numpy as np\n",
    "import cupy as cp\n",
    "import scipy\n",
    "import model.functions as f\n",
    "from chainer import serializers\n",
    "from chainer.backends.cuda import to_cpu, to_gpu"
   ]
  },
  {
   "cell_type": "code",
   "execution_count": 2,
   "metadata": {},
   "outputs": [],
   "source": [
    "class Bunch(object):\n",
    "    def __init__(self, adict):\n",
    "        self.__dict__.update(adict)\n",
    "\n",
    "def cos_similarity(u, v):\n",
    "    return np.dot(u, v) / (np.linalg.norm(u) * np.linalg.norm(v))\n",
    "\n",
    "gpu_id = 0"
   ]
  },
  {
   "cell_type": "code",
   "execution_count": 3,
   "metadata": {},
   "outputs": [
    {
     "name": "stdout",
     "output_type": "stream",
     "text": [
      "mnist_fc_none_20000_0 2s5rhpwv\n"
     ]
    }
   ],
   "source": [
    "name = 'mnist_fc_none_20000_0'\n",
    "\n",
    "# check id\n",
    "api = wandb.Api()\n",
    "runs = api.runs(\"liuyuezhang/cerebellum\")\n",
    "for run in runs:\n",
    "    if run.name == name:\n",
    "        run_id = run.id\n",
    "        config = Bunch(run.config)\n",
    "        print(run.name, run.id)\n",
    "        break"
   ]
  },
  {
   "cell_type": "code",
   "execution_count": 4,
   "metadata": {},
   "outputs": [
    {
     "data": {
      "text/plain": [
       "((784, 10000), (10, 10000))"
      ]
     },
     "execution_count": 4,
     "metadata": {},
     "output_type": "execute_result"
    }
   ],
   "source": [
    "from data.mini_mnist import get_mini_mnist\n",
    "from chainer.datasets import get_mnist, get_cifar10\n",
    "\n",
    "# data\n",
    "if config.env == 'mnist1':\n",
    "    data = get_mini_mnist(c=1)\n",
    "    in_size = 28 * 28\n",
    "    out_size = 1\n",
    "elif config.env == 'mnist2':\n",
    "    data = get_mini_mnist(c=2)\n",
    "    in_size = 28 * 28\n",
    "    out_size = 2\n",
    "elif config.env == 'mnist':\n",
    "    data = get_mnist(withlabel=True, ndim=1)[1]\n",
    "    in_size = 28 * 28\n",
    "    out_size = 10\n",
    "else:\n",
    "    raise NotImplementedError\n",
    "\n",
    "X, Y = zip(*data)\n",
    "X = np.array(X).T\n",
    "Y = f.one_hot(Y, out_size=out_size, dtype=float).T\n",
    "X.shape, Y.shape"
   ]
  },
  {
   "cell_type": "code",
   "execution_count": 5,
   "metadata": {},
   "outputs": [
    {
     "name": "stdout",
     "output_type": "stream",
     "text": [
      "load model\n"
     ]
    }
   ],
   "source": [
    "from model.cerebellum import Cerebellum\n",
    "model = Cerebellum(in_size=in_size, out_size=out_size, args=config).to_gpu(gpu_id)\n",
    "\n",
    "# load\n",
    "for file in os.listdir('../wandb'):\n",
    "    if run_id in file:\n",
    "        serializers.load_npz('../wandb' + '/' + file + '/model.pkl', model)\n",
    "        print(\"load model\")\n",
    "        break"
   ]
  },
  {
   "cell_type": "code",
   "execution_count": 6,
   "metadata": {},
   "outputs": [
    {
     "data": {
      "text/plain": [
       "((20000, 10000), (10, 20000))"
      ]
     },
     "execution_count": 6,
     "metadata": {},
     "output_type": "execute_result"
    }
   ],
   "source": [
    "Z = model.project(to_gpu(X.T)).array.T\n",
    "W_model = model.purkinje.W.array\n",
    "\n",
    "pred_model = W_model @ Z\n",
    "\n",
    "Z.shape, W_model.shape"
   ]
  },
  {
   "cell_type": "code",
   "execution_count": 76,
   "metadata": {},
   "outputs": [
    {
     "data": {
      "text/plain": [
       "9505"
      ]
     },
     "execution_count": 76,
     "metadata": {},
     "output_type": "execute_result"
    }
   ],
   "source": [
    "np.sum(pred_model.argmax(0) == Y.argmax(0))"
   ]
  },
  {
   "cell_type": "code",
   "execution_count": 77,
   "metadata": {},
   "outputs": [
    {
     "data": {
      "text/plain": [
       "(10, 2000)"
      ]
     },
     "execution_count": 77,
     "metadata": {},
     "output_type": "execute_result"
    }
   ],
   "source": [
    "W = Y @ Z.T @ np.linalg.inv(Z @ Z.T)\n",
    "W.shape"
   ]
  },
  {
   "cell_type": "code",
   "execution_count": 78,
   "metadata": {},
   "outputs": [
    {
     "data": {
      "text/plain": [
       "9906"
      ]
     },
     "execution_count": 78,
     "metadata": {},
     "output_type": "execute_result"
    }
   ],
   "source": [
    "pred = W @ Z\n",
    "np.sum(pred.argmax(0) == Y.argmax(0))"
   ]
  },
  {
   "cell_type": "code",
   "execution_count": 81,
   "metadata": {},
   "outputs": [
    {
     "data": {
      "text/plain": [
       "0.6075046534464619"
      ]
     },
     "execution_count": 81,
     "metadata": {},
     "output_type": "execute_result"
    }
   ],
   "source": [
    "u = W[0]\n",
    "v = W_model[0]\n",
    "cos_similarity(u, v)"
   ]
  },
  {
   "cell_type": "code",
   "execution_count": 10,
   "metadata": {},
   "outputs": [
    {
     "data": {
      "text/plain": [
       "array(35.518925, dtype=float32)"
      ]
     },
     "execution_count": 10,
     "metadata": {},
     "output_type": "execute_result"
    }
   ],
   "source": [
    "calc_dim(Z)"
   ]
  },
  {
   "cell_type": "code",
   "execution_count": 7,
   "metadata": {},
   "outputs": [],
   "source": [
    "def calc_dim(X):\n",
    "    C = X @ X.T\n",
    "    return cp.trace(C) ** 2 / cp.trace(C @ C)"
   ]
  },
  {
   "cell_type": "code",
   "execution_count": 9,
   "metadata": {},
   "outputs": [],
   "source": [
    "def calc_dim(X):\n",
    "    X = X - cp.mean(X, axis=1).reshape(-1, 1)\n",
    "    C = X @ X.T\n",
    "    return cp.trace(C) ** 2 / cp.trace(C @ C)"
   ]
  }
 ],
 "metadata": {
  "kernelspec": {
   "display_name": "Python [conda env:chainer]",
   "language": "python",
   "name": "conda-env-chainer-py"
  },
  "language_info": {
   "codemirror_mode": {
    "name": "ipython",
    "version": 3
   },
   "file_extension": ".py",
   "mimetype": "text/x-python",
   "name": "python",
   "nbconvert_exporter": "python",
   "pygments_lexer": "ipython3",
   "version": "3.7.6"
  }
 },
 "nbformat": 4,
 "nbformat_minor": 2
}
