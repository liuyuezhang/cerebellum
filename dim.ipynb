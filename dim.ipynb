{
 "cells": [
  {
   "cell_type": "code",
   "execution_count": 24,
   "metadata": {},
   "outputs": [],
   "source": [
    "from chainer.datasets import get_mnist, get_cifar10\n",
    "from chainer.backends.cuda import to_cpu, to_gpu\n",
    "\n",
    "import cupy as cp\n",
    "import numpy as np"
   ]
  },
  {
   "cell_type": "code",
   "execution_count": 37,
   "metadata": {},
   "outputs": [],
   "source": [
    "train_data, test_data = get_mnist(withlabel=False, ndim=1)\n",
    "\n",
    "input_dim = 28 * 28"
   ]
  },
  {
   "cell_type": "code",
   "execution_count": 41,
   "metadata": {},
   "outputs": [],
   "source": [
    "def calc_dim(X):\n",
    "    u = cp.mean(X, axis=0, keepdims=True)\n",
    "    C = (X-u) @ (X-u).T\n",
    "    return cp.trace(C) ** 2 / cp.trace(C @ C)"
   ]
  },
  {
   "cell_type": "code",
   "execution_count": 64,
   "metadata": {},
   "outputs": [],
   "source": [
    "granule_cell = 'lc'\n",
    "k = 8\n",
    "n_hidden = 5000\n",
    "batch_size = 1000"
   ]
  },
  {
   "cell_type": "code",
   "execution_count": 65,
   "metadata": {},
   "outputs": [],
   "source": [
    "import model.granule as granule\n",
    "\n",
    "# seed\n",
    "np.random.seed(0)\n",
    "cp.random.seed(0)\n",
    "\n",
    "# Granule cells\n",
    "if granule_cell == 'fc':\n",
    "    gc = granule.FC(m=input_dim, n=n_hidden)\n",
    "elif granule_cell == 'lc':\n",
    "    gc = granule.LC(m=input_dim, n=n_hidden, k=k)\n",
    "elif granule_cell == 'rand':\n",
    "    gc = granule.Rand(m=input_dim, n=n_hidden, k=k)"
   ]
  },
  {
   "cell_type": "code",
   "execution_count": 66,
   "metadata": {},
   "outputs": [
    {
     "data": {
      "text/plain": [
       "(1000, 5000)"
      ]
     },
     "execution_count": 66,
     "metadata": {},
     "output_type": "execute_result"
    }
   ],
   "source": [
    "idx = np.random.choice(len(train_data), batch_size)\n",
    "data = train_data[idx]\n",
    "\n",
    "X = []\n",
    "for x in data:\n",
    "    X.append(gc.forward(to_gpu(x)).squeeze(-1))\n",
    "    \n",
    "X = cp.array(X)\n",
    "X.shape"
   ]
  },
  {
   "cell_type": "code",
   "execution_count": 67,
   "metadata": {},
   "outputs": [
    {
     "data": {
      "text/plain": [
       "array(29.09468313)"
      ]
     },
     "execution_count": 67,
     "metadata": {},
     "output_type": "execute_result"
    }
   ],
   "source": [
    "calc_dim(X)"
   ]
  }
 ],
 "metadata": {
  "kernelspec": {
   "display_name": "Python [conda env:chainer]",
   "language": "python",
   "name": "conda-env-chainer-py"
  },
  "language_info": {
   "codemirror_mode": {
    "name": "ipython",
    "version": 3
   },
   "file_extension": ".py",
   "mimetype": "text/x-python",
   "name": "python",
   "nbconvert_exporter": "python",
   "pygments_lexer": "ipython3",
   "version": "3.7.6"
  }
 },
 "nbformat": 4,
 "nbformat_minor": 2
}
